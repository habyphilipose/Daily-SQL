{
  "nbformat": 4,
  "nbformat_minor": 0,
  "metadata": {
    "colab": {
      "provenance": []
    },
    "kernelspec": {
      "name": "python3",
      "display_name": "Python 3"
    },
    "language_info": {
      "name": "python"
    }
  },
  "cells": [
    {
      "cell_type": "code",
      "execution_count": null,
      "metadata": {
        "id": "_tbyGLLHsPEg"
      },
      "outputs": [],
      "source": [
        "Table: Transactions\n",
        "\n",
        "+---------------+---------+\n",
        "| Column Name   | Type    |\n",
        "+---------------+---------+\n",
        "| id            | int     |\n",
        "| country       | varchar |\n",
        "| state         | enum    |\n",
        "| amount        | int     |\n",
        "| trans_date    | date    |\n",
        "+---------------+---------+\n",
        "id is the primary key of this table.\n",
        "The table has information about incoming transactions.\n",
        "The state column is an enum of type [\"approved\", \"declined\"].\n",
        "\n",
        "\n",
        "Write an SQL query to find for each month and country, the number of transactions and their total amount, the number of approved transactions and their total amount.\n",
        "\n",
        "Return the result table in any order.\n",
        "\n",
        "The query result format is in the following example.\n",
        "\n",
        "\n",
        "\n",
        "Example 1:\n",
        "\n",
        "Input:\n",
        "Transactions table:\n",
        "+------+---------+----------+--------+------------+\n",
        "| id   | country | state    | amount | trans_date |\n",
        "+------+---------+----------+--------+------------+\n",
        "| 121  | US      | approved | 1000   | 2018-12-18 |\n",
        "| 122  | US      | declined | 2000   | 2018-12-19 |\n",
        "| 123  | US      | approved | 2000   | 2019-01-01 |\n",
        "| 124  | DE      | approved | 2000   | 2019-01-07 |\n",
        "+------+---------+----------+--------+------------+\n",
        "Output:\n",
        "+----------+---------+-------------+----------------+--------------------+-----------------------+\n",
        "| month    | country | trans_count | approved_count | trans_total_amount | approved_total_amount |\n",
        "+----------+---------+-------------+----------------+--------------------+-----------------------+\n",
        "| 2018-12  | US      | 2           | 1              | 3000               | 1000                  |\n",
        "| 2019-01  | US      | 1           | 1              | 2000               | 2000                  |\n",
        "| 2019-01  | DE      | 1           | 1              | 2000               | 2000                  |\n",
        "+----------+---------+-------------+----------------+--------------------+-----------------------+"
      ]
    },
    {
      "cell_type": "code",
      "source": [
        "#see hw DATE FORMAT is used\n",
        "#see how CASE WHEN is used"
      ],
      "metadata": {
        "id": "MFc-SvtgseR8"
      },
      "execution_count": null,
      "outputs": []
    },
    {
      "cell_type": "code",
      "source": [
        "# Write your MySQL query statement below\n",
        "with cte as (select *, date_format(trans_date, \"%Y-%m\") as month\n",
        "from Transactions)\n",
        "\n",
        "select month, country, count(state) as trans_count, sum(amount) as trans_total_amount,\n",
        "sum(case when state= 'approved' then 1 else 0 end) as approved_count,\n",
        "sum(case when state= 'approved' then amount else 0 end) as approved_total_amount\n",
        "from cte\n",
        "group by month, country"
      ],
      "metadata": {
        "id": "Mdyjzwfwsake"
      },
      "execution_count": null,
      "outputs": []
    }
  ]
}