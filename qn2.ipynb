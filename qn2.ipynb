{
  "nbformat": 4,
  "nbformat_minor": 0,
  "metadata": {
    "colab": {
      "provenance": []
    },
    "kernelspec": {
      "name": "python3",
      "display_name": "Python 3"
    },
    "language_info": {
      "name": "python"
    }
  },
  "cells": [
    {
      "cell_type": "code",
      "execution_count": null,
      "metadata": {
        "id": "Hth0TVyQeu2T"
      },
      "outputs": [],
      "source": [
        "Write a solution to swap the seat id of every two consecutive students.\n",
        "\n",
        "If the number of students is odd, the id of the last student is not swapped.\n",
        "\n",
        "Return the result table ordered by id in ascending order.\n",
        "\n",
        "The result format is in the following example.\n",
        "\n",
        "Example 1:\n",
        "\n",
        "Input:\n",
        "Seat table:\n",
        "+----+---------+\n",
        "| id | student |\n",
        "+----+---------+\n",
        "| 1  | Abbot   |\n",
        "| 2  | Doris   |\n",
        "| 3  | Emerson |\n",
        "| 4  | Green   |\n",
        "| 5  | Jeames  |\n",
        "+----+---------+\n",
        "Output:\n",
        "+----+---------+\n",
        "| id | student |\n",
        "+----+---------+\n",
        "| 1  | Doris   |\n",
        "| 2  | Abbot   |\n",
        "| 3  | Green   |\n",
        "| 4  | Emerson |\n",
        "| 5  | Jeames  |\n",
        "+----+---------+\n",
        "Explanation:\n",
        "Note that if the number of students is odd, there is no need to change the last one's seat."
      ]
    },
    {
      "cell_type": "code",
      "source": [
        "with cte as\n",
        "\n",
        "(select IF(id< (select max(id) from Seat), IF(id%2=0, id-1, id+1),\n",
        "IF(id%2 = 0, id-1, id)) as id, student\n",
        "from Seat)\n",
        "\n",
        "select *\n",
        "from cte\n",
        "order by id"
      ],
      "metadata": {
        "id": "8ai9fjT2e0Is"
      },
      "execution_count": null,
      "outputs": []
    }


    
  ]
}
