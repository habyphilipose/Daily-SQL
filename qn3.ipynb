{
  "nbformat": 4,
  "nbformat_minor": 0,
  "metadata": {
    "colab": {
      "provenance": []
    },
    "kernelspec": {
      "name": "python3",
      "display_name": "Python 3"
    },
    "language_info": {
      "name": "python"
    }
  },
  "cells": [
    {
      "cell_type": "code",
      "execution_count": null,
      "metadata": {
        "id": "H7Pv_rCjvtrK"
      },
      "outputs": [],
      "source": [
        "Find all numbers that appear at least three times consecutively.\n",
        "\n",
        "Return the result table in any order.\n",
        "\n",
        "The result format is in the following example.\n",
        "\n",
        "\n",
        "\n",
        "Example 1:\n",
        "\n",
        "Input:\n",
        "Logs table:\n",
        "+----+-----+\n",
        "| id | num |\n",
        "+----+-----+\n",
        "| 1  | 1   |\n",
        "| 2  | 1   |\n",
        "| 3  | 1   |\n",
        "| 4  | 2   |\n",
        "| 5  | 1   |\n",
        "| 6  | 2   |\n",
        "| 7  | 2   |\n",
        "+----+-----+\n",
        "Output:\n",
        "+-----------------+\n",
        "| ConsecutiveNums |\n",
        "+-----------------+\n",
        "| 1               |\n",
        "+-----------------+\n",
        "Explanation: 1 is the only number that appears consecutively for at least three times."
      ]
    },
    {
      "cell_type": "code",
      "source": [
        "select distinct\n",
        "    l1.Num AS ConsecutiveNums\n",
        "from\n",
        "    Logs l1,\n",
        "    Logs l2,\n",
        "    Logs l3\n",
        "where\n",
        "    l1.Id = l2.Id - 1\n",
        "    and l2.Id = l3.Id - 1\n",
        "    and l1.Num = l2.Num\n",
        "    and l2.Num = l3.Num;\n"
      ],
      "metadata": {
        "id": "df1OWiMtv1Q-"
      },
      "execution_count": null,
      "outputs": []
    },
    {
      "cell_type": "code",
      "source": [
        "\n",
        "with cte as (select a.id as aid, a.num as anum, b.id as bid, b.num as bnum\n",
        "from Logs as a join Logs as b\n",
        "on a.id = b.id -1)\n",
        "\n",
        ", cte2 as (select aid, anum, bid, bnum, b.id as cid, b.num as cnum\n",
        "from cte as a join Logs as b\n",
        "on a.aid = b.id - 2)\n",
        "\n",
        ", cte3 as (select case when anum = bnum and bnum = cnum then anum end as ConsecutiveNums\n",
        "from cte2)\n",
        "\n",
        "select distinct ConsecutiveNums\n",
        "from cte3\n",
        "where ConsecutiveNums is not null"
      ],
      "metadata": {
        "id": "XTV-Lp7lv7eZ"
      },
      "execution_count": null,
      "outputs": []
    }
  ]
}